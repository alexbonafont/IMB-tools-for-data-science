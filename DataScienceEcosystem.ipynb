{
 "cells": [
  {
   "cell_type": "markdown",
   "id": "19b03f4f-040e-4188-bdf8-8c72bd0e8d33",
   "metadata": {
    "tags": []
   },
   "source": [
    "# Data Science Tools and Ecosystem"
   ]
  },
  {
   "cell_type": "markdown",
   "id": "30542193-df75-42f9-a224-beac7b6e50da",
   "metadata": {},
   "source": [
    "## Author\n",
    "Alex Bonafont"
   ]
  },
  {
   "cell_type": "markdown",
   "id": "601ce08e-9c7f-41f7-9617-d1928990d48d",
   "metadata": {},
   "source": [
    "In this notebook, Data Science Tools and Ecosystem are summarized."
   ]
  },
  {
   "cell_type": "markdown",
   "id": "ed0542d3-1ad2-4703-b8d1-87fef9076817",
   "metadata": {},
   "source": [
    "**Objectives:**\n",
    "- List popular languages for Data Science\n",
    "- List popular libraries for Data Science\n",
    "- Demonstrate how to evaluate arithmetic expressions in Python"
   ]
  },
  {
   "cell_type": "markdown",
   "id": "a4047a04-dce4-46a3-910c-0a171432ffb6",
   "metadata": {},
   "source": [
    "Some of the popular languages that Data Scientists use are:\n",
    "1. Python\n",
    "2. R\n",
    "3. SQL"
   ]
  },
  {
   "cell_type": "markdown",
   "id": "ce6f591a-1a33-41f9-939f-eea406da055c",
   "metadata": {},
   "source": [
    "Some of the commonly used libraries used by Data Scientists include:\n",
    "1. TensorFlow\n",
    "2. Pandas\n",
    "3. PyTorch"
   ]
  },
  {
   "cell_type": "markdown",
   "id": "5c76c46a-44f3-41e0-8a2d-a669cf731f1f",
   "metadata": {
    "tags": []
   },
   "source": [
    "|Data Science Tools|\n",
    "|------------------|\n",
    "|Spyder            |\n",
    "|Sublime text      |\n",
    "|VS Code           |"
   ]
  },
  {
   "cell_type": "markdown",
   "id": "e7a704d7-50c7-4b68-87c8-573ffc08542a",
   "metadata": {
    "tags": []
   },
   "source": [
    "### Below are a few examples of evaluating arithmetic expressions in Python"
   ]
  },
  {
   "cell_type": "markdown",
   "id": "5b099cea-1be0-4ff6-8f97-564de7e26d35",
   "metadata": {},
   "source": [
    " This a simple arithmetic expression to multiply then add integers"
   ]
  },
  {
   "cell_type": "code",
   "execution_count": 9,
   "id": "463e7215-cd5a-4ecf-9cd0-a01a25c8c995",
   "metadata": {
    "tags": []
   },
   "outputs": [
    {
     "data": {
      "text/plain": [
       "17"
      ]
     },
     "execution_count": 9,
     "metadata": {},
     "output_type": "execute_result"
    }
   ],
   "source": [
    "(3*4)+5"
   ]
  },
  {
   "cell_type": "markdown",
   "id": "c87d813b-2972-4ea7-9a7b-10ca4ddc09d6",
   "metadata": {},
   "source": [
    " This will convert 200 minutes to hours by diving by 60"
   ]
  },
  {
   "cell_type": "code",
   "execution_count": 8,
   "id": "46bff49f-d4f4-40b5-8655-e1411f0546a8",
   "metadata": {
    "tags": []
   },
   "outputs": [
    {
     "data": {
      "text/plain": [
       "3.3333333333333335"
      ]
     },
     "execution_count": 8,
     "metadata": {},
     "output_type": "execute_result"
    }
   ],
   "source": [
    "200/60"
   ]
  }
 ],
 "metadata": {
  "kernelspec": {
   "display_name": "Python",
   "language": "python",
   "name": "conda-env-python-py"
  },
  "language_info": {
   "codemirror_mode": {
    "name": "ipython",
    "version": 3
   },
   "file_extension": ".py",
   "mimetype": "text/x-python",
   "name": "python",
   "nbconvert_exporter": "python",
   "pygments_lexer": "ipython3",
   "version": "3.7.12"
  }
 },
 "nbformat": 4,
 "nbformat_minor": 5
}
